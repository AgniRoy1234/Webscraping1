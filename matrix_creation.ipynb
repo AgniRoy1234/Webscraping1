{
 "cells": [
  {
   "cell_type": "code",
   "execution_count": 12,
   "metadata": {},
   "outputs": [
    {
     "name": "stdout",
     "output_type": "stream",
     "text": [
      "Enter the number of cities 5\n",
      "Enter city name Ahmedabad\n",
      "Enter city name Kolkata\n",
      "Enter city name Surat\n",
      "Enter city name Mumbai\n",
      "Enter city name Pune\n"
     ]
    }
   ],
   "source": [
    "n=int(input(\"Enter the number of cities \"))\n",
    "cities=[]\n",
    "for i in range(n):\n",
    "    cities.append(input(\"Enter city name \"))"
   ]
  },
  {
   "cell_type": "code",
   "execution_count": 13,
   "metadata": {},
   "outputs": [],
   "source": [
    "cities1=dict(enumerate(cities))"
   ]
  },
  {
   "cell_type": "code",
   "execution_count": 14,
   "metadata": {},
   "outputs": [
    {
     "data": {
      "text/plain": [
       "{0: 'Ahmedabad', 1: 'Kolkata', 2: 'Surat', 3: 'Mumbai', 4: 'Pune'}"
      ]
     },
     "execution_count": 14,
     "metadata": {},
     "output_type": "execute_result"
    }
   ],
   "source": [
    "cities1"
   ]
  },
  {
   "cell_type": "code",
   "execution_count": 15,
   "metadata": {},
   "outputs": [],
   "source": [
    "from bs4 import BeautifulSoup\n",
    "import requests\n",
    "\n",
    "def find_distance(a,b):\n",
    "    a,b=a.lower(),b.lower()\n",
    "\n",
    "    url=f\"https://www.distancefromto.net/distance-from-{a}-in-to-{b}-in\"\n",
    "    r=requests.get(url)\n",
    "    soup=BeautifulSoup(r.content,\"lxml\")\n",
    "    d=soup.find(\"p\").text\n",
    "    d=d.split(\"kilometers\")\n",
    "    d=d[0].strip()\n",
    "    d=d.split()\n",
    "    return int(d[-1].replace(\",\",\"\"))"
   ]
  },
  {
   "cell_type": "code",
   "execution_count": 16,
   "metadata": {},
   "outputs": [],
   "source": [
    "matrix=[]\n",
    "for i in range(len(cities)):\n",
    "    for j in range(len(cities)):\n",
    "        \n",
    "        matrix.append(find_distance(cities1[i],cities1[j]))\n",
    "        "
   ]
  },
  {
   "cell_type": "code",
   "execution_count": 17,
   "metadata": {},
   "outputs": [
    {
     "data": {
      "text/plain": [
       "[0,\n",
       " 1620,\n",
       " 204,\n",
       " 439,\n",
       " 516,\n",
       " 1620,\n",
       " 0,\n",
       " 1612,\n",
       " 1656,\n",
       " 1577,\n",
       " 204,\n",
       " 1612,\n",
       " 0,\n",
       " 235,\n",
       " 315,\n",
       " 439,\n",
       " 1656,\n",
       " 235,\n",
       " 0,\n",
       " 119,\n",
       " 516,\n",
       " 1577,\n",
       " 315,\n",
       " 119,\n",
       " 0]"
      ]
     },
     "execution_count": 17,
     "metadata": {},
     "output_type": "execute_result"
    }
   ],
   "source": [
    "matrix"
   ]
  },
  {
   "cell_type": "code",
   "execution_count": 18,
   "metadata": {},
   "outputs": [],
   "source": [
    "import numpy as np"
   ]
  },
  {
   "cell_type": "code",
   "execution_count": 19,
   "metadata": {},
   "outputs": [],
   "source": [
    "matrix=np.array(matrix).reshape(len(cities),len(cities))"
   ]
  },
  {
   "cell_type": "code",
   "execution_count": 20,
   "metadata": {},
   "outputs": [
    {
     "data": {
      "text/plain": [
       "array([[   0, 1620,  204,  439,  516],\n",
       "       [1620,    0, 1612, 1656, 1577],\n",
       "       [ 204, 1612,    0,  235,  315],\n",
       "       [ 439, 1656,  235,    0,  119],\n",
       "       [ 516, 1577,  315,  119,    0]])"
      ]
     },
     "execution_count": 20,
     "metadata": {},
     "output_type": "execute_result"
    }
   ],
   "source": [
    "matrix"
   ]
  },
  {
   "cell_type": "code",
   "execution_count": 21,
   "metadata": {},
   "outputs": [],
   "source": [
    "import pandas as pd\n",
    "info=pd.DataFrame(matrix,index=cities,columns=cities)"
   ]
  },
  {
   "cell_type": "code",
   "execution_count": 22,
   "metadata": {},
   "outputs": [
    {
     "data": {
      "text/html": [
       "<div>\n",
       "<style scoped>\n",
       "    .dataframe tbody tr th:only-of-type {\n",
       "        vertical-align: middle;\n",
       "    }\n",
       "\n",
       "    .dataframe tbody tr th {\n",
       "        vertical-align: top;\n",
       "    }\n",
       "\n",
       "    .dataframe thead th {\n",
       "        text-align: right;\n",
       "    }\n",
       "</style>\n",
       "<table border=\"1\" class=\"dataframe\">\n",
       "  <thead>\n",
       "    <tr style=\"text-align: right;\">\n",
       "      <th></th>\n",
       "      <th>Ahmedabad</th>\n",
       "      <th>Kolkata</th>\n",
       "      <th>Surat</th>\n",
       "      <th>Mumbai</th>\n",
       "      <th>Pune</th>\n",
       "    </tr>\n",
       "  </thead>\n",
       "  <tbody>\n",
       "    <tr>\n",
       "      <th>Ahmedabad</th>\n",
       "      <td>0</td>\n",
       "      <td>1620</td>\n",
       "      <td>204</td>\n",
       "      <td>439</td>\n",
       "      <td>516</td>\n",
       "    </tr>\n",
       "    <tr>\n",
       "      <th>Kolkata</th>\n",
       "      <td>1620</td>\n",
       "      <td>0</td>\n",
       "      <td>1612</td>\n",
       "      <td>1656</td>\n",
       "      <td>1577</td>\n",
       "    </tr>\n",
       "    <tr>\n",
       "      <th>Surat</th>\n",
       "      <td>204</td>\n",
       "      <td>1612</td>\n",
       "      <td>0</td>\n",
       "      <td>235</td>\n",
       "      <td>315</td>\n",
       "    </tr>\n",
       "    <tr>\n",
       "      <th>Mumbai</th>\n",
       "      <td>439</td>\n",
       "      <td>1656</td>\n",
       "      <td>235</td>\n",
       "      <td>0</td>\n",
       "      <td>119</td>\n",
       "    </tr>\n",
       "    <tr>\n",
       "      <th>Pune</th>\n",
       "      <td>516</td>\n",
       "      <td>1577</td>\n",
       "      <td>315</td>\n",
       "      <td>119</td>\n",
       "      <td>0</td>\n",
       "    </tr>\n",
       "  </tbody>\n",
       "</table>\n",
       "</div>"
      ],
      "text/plain": [
       "           Ahmedabad  Kolkata  Surat  Mumbai  Pune\n",
       "Ahmedabad          0     1620    204     439   516\n",
       "Kolkata         1620        0   1612    1656  1577\n",
       "Surat            204     1612      0     235   315\n",
       "Mumbai           439     1656    235       0   119\n",
       "Pune             516     1577    315     119     0"
      ]
     },
     "execution_count": 22,
     "metadata": {},
     "output_type": "execute_result"
    }
   ],
   "source": [
    "info"
   ]
  },
  {
   "cell_type": "code",
   "execution_count": null,
   "metadata": {},
   "outputs": [],
   "source": []
  }
 ],
 "metadata": {
  "kernelspec": {
   "display_name": "Python 3",
   "language": "python",
   "name": "python3"
  },
  "language_info": {
   "codemirror_mode": {
    "name": "ipython",
    "version": 3
   },
   "file_extension": ".py",
   "mimetype": "text/x-python",
   "name": "python",
   "nbconvert_exporter": "python",
   "pygments_lexer": "ipython3",
   "version": "3.8.5"
  }
 },
 "nbformat": 4,
 "nbformat_minor": 4
}
