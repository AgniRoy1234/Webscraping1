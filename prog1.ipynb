{
 "cells": [
  {
   "cell_type": "code",
   "execution_count": 1,
   "metadata": {},
   "outputs": [],
   "source": [
    "#Importing the necessary libraries\n",
    "from bs4 import BeautifulSoup\n",
    "import requests\n",
    "import numpy as np\n",
    "import pandas as pd\n",
    "import random\n",
    "from functools import reduce\n",
    "from datetime import datetime"
   ]
  },
  {
   "cell_type": "code",
   "execution_count": 13,
   "metadata": {},
   "outputs": [
    {
     "name": "stdout",
     "output_type": "stream",
     "text": [
      "Enter the number of cities 8\n",
      "Enter city name Mumbai\n",
      "Enter city name Delhi\n",
      "Enter city name Kolkata\n",
      "Enter city name Jaipur\n",
      "Enter city name Lucknow\n",
      "Enter city name Patna\n",
      "Enter city name Bhopal\n",
      "Enter city name Raipur\n",
      "Enter the number of cities 4\n",
      "Enter city name Kohima\n",
      "Enter city name Daman\n",
      "Enter city name Silvassa\n",
      "Enter city name Panaji\n"
     ]
    }
   ],
   "source": [
    "def matrix_creation():#calls the find_distance(a,b) method\n",
    "    \"\"\"Creates a matrix that displays the distances between 2 cities from \n",
    "    a set of cities as given by the user\"\"\"\n",
    "    n=int(input(\"Enter the number of cities \"))\n",
    "    cities=[]\n",
    "    for i in range(n):\n",
    "        cities.append(input(\"Enter city name \"))\n",
    "    cities1=dict(enumerate(cities))\n",
    "    matrix=[]\n",
    "    for i in range(len(cities)):\n",
    "        for j in range(len(cities)):\n",
    "            matrix.append(find_distance(cities1[i],cities1[j]))\n",
    "    matrix=np.array(matrix).reshape(len(cities),len(cities))\n",
    "    return matrix,cities1\n",
    "\n",
    "def find_distance(a,b):#Uses BeautifulSoup and Requests packages\n",
    "    \"\"\"Finds distance between 2 cities in kilometers by scraping the web\"\"\"\n",
    "    a,b=a.lower(),b.lower()\n",
    "    url=f\"https://www.distancecalculator.net/from-{a}-to-{b}\"\n",
    "    r=requests.get(url)\n",
    "    soup=BeautifulSoup(r.content,'lxml')\n",
    "    d=soup.find(\"span\",{\"id\":\"distance-km\",\"class\":\"distance-number red\"}).text\n",
    "    d=d.split(\"km\")\n",
    "    d=d[0].strip()\n",
    "    return int(d)\n",
    "\n",
    "def randomSolution(tsp):\n",
    "    \"\"\"Generates a random solution to a Travelling Salesman Problem\"\"\"\n",
    "    cities=list(range(len(tsp)))\n",
    "    solution=[]\n",
    "    for i in range(len(tsp)):\n",
    "        randomCity=cities[random.randint(0,len(cities)-1)]\n",
    "        solution.append(randomCity)\n",
    "        cities.remove(randomCity)\n",
    "    return solution\n",
    "\n",
    "def routelength(sol,tsp):\n",
    "    \"\"\"Finds out the total route length needed to traverse in a particular solution \"\"\"\n",
    "    routeLength=reduce(lambda x,y:x+y,[tsp[sol[i]][sol[i+1]] for i in range(len(tsp)-1)])\n",
    "    routeLength=routeLength+tsp[sol[0]][sol[-1]]\n",
    "    return routeLength\n",
    "\n",
    "def getNeighbours(solution):\n",
    "    \"\"\"Returns an array that contains the immediate neighbours of a solution 'solution'\"\"\"\n",
    "    neighbours=[]\n",
    "    for i in range(len(solution)):\n",
    "        for j in range(i+1,len(solution)):\n",
    "            neighbour=solution.copy()\n",
    "            neighbour[i],neighbour[j]=solution[j],solution[i]\n",
    "            neighbours.append(neighbour)\n",
    "    return neighbours\n",
    "\n",
    "def getBestNeighbour(neighbours,tsp):\n",
    "    \"\"\"\"This function will return best neighbouring solution to a given solution and the \n",
    "    corresponding route length(which would be the shortest)\"\"\"\n",
    "    routelengtharray=[]\n",
    "    for i  in range(len(solution)):\n",
    "        routelengtharray.append(routelength(neighbours[i],tsp))\n",
    "    shortestRouteLength=min(routelengtharray)\n",
    "    bestneighbour=neighbours[routelengtharray.index(shortestRouteLength)]\n",
    "    return bestneighbour,shortestRouteLength\n",
    "\n",
    "def HillClimbing(tsp):\n",
    "    \"\"\"returns the best solution by HillClimbing algorithm\"\"\"\n",
    "    \n",
    "    currentSolution=randomSolution(tsp)\n",
    "    currentRouteLength=routelength(currentSolution,tsp)\n",
    "    neighbours=getNeighbours(currentSolution)\n",
    "    bestNeighBour,bestNeighbourRouteLength=getBestNeighbour(neighbours,tsp)\n",
    "    while currentRouteLength>bestNeighbourRouteLength:\n",
    "        currentSolution=bestNeighBour\n",
    "        currentRouteLength=bestNeighbourRouteLength\n",
    "        neighbours=getNeighbours(currentSolution)\n",
    "        bestNeighBour,bestNeighbourRouteLength=getBestNeighbour(neighbours,tsp)\n",
    "\n",
    "\n",
    "    return currentSolution,currentRouteLength\n",
    "\n",
    "def stochasticHillClimb(tsp):\n",
    "    \"\"\"Finds solution by choosing random combinations\"\"\"\n",
    "    \n",
    "    currentSolution=randomSolution(tsp)\n",
    "    currentRouteLength=routelength(currentSolution,tsp)\n",
    "    \n",
    "    for i in range(1000):\n",
    "        rSolution=randomSolution(tsp)\n",
    "        rRouteLength=routelength(rSolution,tsp)\n",
    "        if(rRouteLength<currentRouteLength):\n",
    "            currentRouteLength=rRouteLength\n",
    "            currentSolution=rSolution\n",
    "\n",
    "    return currentSolution,currentRouteLength\n",
    "\n",
    "\n",
    "solution=[[],[]]\n",
    "for i in range(2):\n",
    "    tsp,cities1=matrix_creation()\n",
    "    a=datetime.now()\n",
    "    Solution1=HillClimbing(tsp)\n",
    "    b=datetime.now()\n",
    "    c=datetime.now()\n",
    "    Solution2=stochasticHillClimb(tsp)\n",
    "    d=datetime.now()\n",
    "    city1=Solution1[0]\n",
    "    city2=Solution2[0]\n",
    "    cityorder1=[]\n",
    "    cityorder2=[]\n",
    "    for i in range(len(city1)):\n",
    "        cityorder1.append(cities1[city1[i]])\n",
    "        cityorder2.append(cities1[city2[i]])\n",
    "        \n",
    "    solution[0].append([cityorder1,Solution1[1],(b-a).microseconds])\n",
    "    solution[1].append([cityorder2,Solution2[1],(d-c).microseconds])    "
   ]
  },
  {
   "cell_type": "code",
   "execution_count": 14,
   "metadata": {},
   "outputs": [
    {
     "data": {
      "text/plain": [
       "[[[['Lucknow',\n",
       "    'Patna',\n",
       "    'Kolkata',\n",
       "    'Raipur',\n",
       "    'Bhopal',\n",
       "    'Mumbai',\n",
       "    'Jaipur',\n",
       "    'Delhi'],\n",
       "   4350,\n",
       "   0],\n",
       "  [['Kohima', 'Daman', 'Silvassa', 'Panaji'], 5203, 0]],\n",
       " [[['Mumbai',\n",
       "    'Jaipur',\n",
       "    'Delhi',\n",
       "    'Lucknow',\n",
       "    'Kolkata',\n",
       "    'Patna',\n",
       "    'Raipur',\n",
       "    'Bhopal'],\n",
       "   4690,\n",
       "   14988],\n",
       "  [['Panaji', 'Kohima', 'Daman', 'Silvassa'], 5203, 7973]]]"
      ]
     },
     "execution_count": 14,
     "metadata": {},
     "output_type": "execute_result"
    }
   ],
   "source": [
    "solution"
   ]
  },
  {
   "cell_type": "code",
   "execution_count": 5,
   "metadata": {},
   "outputs": [
    {
     "data": {
      "text/plain": [
       "datetime.datetime(2020, 12, 29, 20, 21, 47, 572029)"
      ]
     },
     "execution_count": 5,
     "metadata": {},
     "output_type": "execute_result"
    }
   ],
   "source": [
    "datetime.now()"
   ]
  },
  {
   "cell_type": "code",
   "execution_count": 6,
   "metadata": {},
   "outputs": [
    {
     "data": {
      "text/plain": [
       "datetime.datetime(2020, 12, 29, 20, 21, 58, 109850)"
      ]
     },
     "execution_count": 6,
     "metadata": {},
     "output_type": "execute_result"
    }
   ],
   "source": [
    "datetime.now()"
   ]
  },
  {
   "cell_type": "code",
   "execution_count": 10,
   "metadata": {},
   "outputs": [
    {
     "name": "stdout",
     "output_type": "stream",
     "text": [
      "3985\n"
     ]
    }
   ],
   "source": [
    "a=datetime.now()\n",
    "for i in range(1,100000):\n",
    "    pass\n",
    "b=datetime.now()\n",
    "print((b-a).microseconds)"
   ]
  },
  {
   "cell_type": "code",
   "execution_count": null,
   "metadata": {},
   "outputs": [],
   "source": []
  }
 ],
 "metadata": {
  "kernelspec": {
   "display_name": "Python 3",
   "language": "python",
   "name": "python3"
  },
  "language_info": {
   "codemirror_mode": {
    "name": "ipython",
    "version": 3
   },
   "file_extension": ".py",
   "mimetype": "text/x-python",
   "name": "python",
   "nbconvert_exporter": "python",
   "pygments_lexer": "ipython3",
   "version": "3.8.5"
  }
 },
 "nbformat": 4,
 "nbformat_minor": 4
}
